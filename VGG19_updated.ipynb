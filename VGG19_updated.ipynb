{
 "cells": [
  {
   "cell_type": "code",
   "execution_count": null,
   "metadata": {
    "collapsed": true
   },
   "outputs": [],
   "source": [
    "import numpy as np\n",
    "import re\n",
    "import os\n",
    "import h5py\n",
    "from sklearn.preprocessing import LabelBinarizer\n",
    "import keras\n",
    "from keras import optimizers\n",
    "from keras.callbacks import TensorBoard\n",
    "from keras.preprocessing.image import ImageDataGenerator\n",
    "from keras.models import Sequential\n",
    "from keras.layers import Dense, Dropout, Activation, Flatten, GlobalAveragePooling2D, add\n",
    "from keras.layers import Conv2D, MaxPooling2D, BatchNormalization, ZeroPadding2D\n",
    "from keras import regularizers\n",
    "from keras import backend as K\n",
    "from VGG19_utils import *\n",
    "from VGG19_preprocess import *"
   ]
  },
  {
   "cell_type": "code",
   "execution_count": null,
   "metadata": {
    "collapsed": true
   },
   "outputs": [],
   "source": [
    "def VGG19(input_shape, num_classes, dropout, weight_decay):\n",
    "    model = Sequential()\n",
    "    ######################################## STAGE 1 ####################################################################\n",
    "    model.add(Conv2D(64, (3,3), padding = 'same', kernel_regularizer = regularizers.l2(weight_decay), name = '1_1', \n",
    "                    input_shape = input_shape))\n",
    "    model.add(BatchNormalization())\n",
    "    model.add(Activation('relu'))\n",
    "    model.add(Dropout(0.3))\n",
    "    \n",
    "    model.add(Conv2D(64, (3,3), padding = 'same', kernel_regularizer = regularizers.l2(weight_decay), name = '1_2'))\n",
    "    model.add(BatchNormalization())\n",
    "    model.add(Activation('relu'))\n",
    "    \n",
    "    model.add(MaxPooling2D(pool_size=  (2,2), name = '1_pool'))\n",
    "    \n",
    "    ######################################## STAGE 2 ####################################################################\n",
    "    model.add(Conv2D(128, (3,3), padding = 'same', kernel_regularizer = regularizers.l2(weight_decay), name = '2_1'))\n",
    "    model.add(BatchNormalization())\n",
    "    model.add(Activation('relu'))\n",
    "    model.add(Dropout(0.4))\n",
    "    \n",
    "    model.add(Conv2D(128, (3,3), padding = 'same', kernel_regularizer = regularizers.l2(weight_decay), name = '2_2'))\n",
    "    model.add(BatchNormalization())\n",
    "    model.add(Activation('relu'))\n",
    "    \n",
    "    model.add(MaxPooling2D(pool_size= (2,2), name = '2_pool'))\n",
    "    \n",
    "    ######################################## STAGE 3 ####################################################################\n",
    "    model.add(Conv2D(256, (3,3), padding = 'same', kernel_regularizer = regularizers.l2(weight_decay), name = '3_1'))\n",
    "    model.add(BatchNormalization())\n",
    "    model.add(Activation('relu'))\n",
    "    model.add(Dropout(0.4))\n",
    "    \n",
    "    model.add(Conv2D(256, (3,3), padding = 'same', kernel_regularizer = regularizers.l2(weight_decay), name = '3_2'))\n",
    "    model.add(BatchNormalization())\n",
    "    model.add(Activation('relu'))\n",
    "    model.add(Dropout(0.4))\n",
    "    \n",
    "    model.add(Conv2D(256, (3,3), padding = 'same', kernel_regularizer = regularizers.l2(weight_decay), name = '3_3'))\n",
    "    model.add(BatchNormalization())\n",
    "    model.add(Activation('relu'))\n",
    "    \n",
    "    model.add(MaxPooling2D(pool_size= (2,2), name = '3_pool'))\n",
    "    \n",
    "    ######################################## STAGE 4 ####################################################################\n",
    "    model.add(Conv2D(512, (3,3), padding = 'same', kernel_regularizer = regularizers.l2(weight_decay), name = '4_1'))\n",
    "    model.add(BatchNormalization())\n",
    "    model.add(Activation('relu'))\n",
    "    model.add(Dropout(0.4))\n",
    "    \n",
    "    model.add(Conv2D(512, (3,3), padding = 'same', kernel_regularizer = regularizers.l2(weight_decay), name = '4_2'))\n",
    "    model.add(BatchNormalization())\n",
    "    model.add(Activation('relu'))\n",
    "    model.add(Dropout(0.4))\n",
    "    \n",
    "    model.add(Conv2D(512, (3,3), padding = 'same', kernel_regularizer = regularizers.l2(weight_decay), name = '4_3'))\n",
    "    model.add(BatchNormalization())\n",
    "    model.add(Activation('relu'))\n",
    "    \n",
    "    model.add(MaxPooling2D(pool_size= (2,2), name = '4_pool'))\n",
    "    \n",
    "    ######################################## STAGE 5 ####################################################################\n",
    "    model.add(Conv2D(512, (3,3), padding = 'same', kernel_regularizer = regularizers.l2(weight_decay), name = '5_1'))\n",
    "    model.add(BatchNormalization())\n",
    "    model.add(Activation('relu'))\n",
    "    model.add(Dropout(0.4))\n",
    "    \n",
    "    model.add(Conv2D(512, (3,3), padding = 'same', kernel_regularizer = regularizers.l2(weight_decay), name = '5_2'))\n",
    "    model.add(BatchNormalization())\n",
    "    model.add(Activation('relu'))\n",
    "    model.add(Dropout(0.4))\n",
    "    \n",
    "    model.add(Conv2D(512, (3,3), padding = 'same', kernel_regularizer = regularizers.l2(weight_decay), name = '5_3'))\n",
    "    model.add(BatchNormalization())\n",
    "    model.add(Activation('relu'))\n",
    "    \n",
    "    model.add(MaxPooling2D(pool_size= (2,2), name = '5_pool'))\n",
    "    model.add(Dropout(0.5))\n",
    "    \n",
    "    ######################################## Modification for Caltech 101 ################################################\n",
    "    model.add(Flatten(name='flatten'))\n",
    "    model.add(Dense(4096, use_bias = True, name='fc_caltech101'))\n",
    "    model.add(BatchNormalization())\n",
    "    model.add(Activation('relu'))\n",
    "    model.add(Dropout(dropout))\n",
    "    model.add(Dense(4096, name='fc2'))  \n",
    "    model.add(BatchNormalization())\n",
    "    model.add(Activation('relu'))\n",
    "    model.add(Dropout(dropout))      \n",
    "    model.add(Dense(num_classes, name='predictions_caltech101'))\n",
    "    model.add(BatchNormalization())\n",
    "    model.add(Activation('softmax'))\n",
    "    \n",
    "    return model\n",
    "    "
   ]
  },
  {
   "cell_type": "code",
   "execution_count": null,
   "metadata": {},
   "outputs": [],
   "source": [
    "model = VGG19(input_shape=(64,64,3), num_classes = 2, dropout=0.5, weight_decay=0.0001)"
   ]
  },
  {
   "cell_type": "code",
   "execution_count": null,
   "metadata": {
    "collapsed": true
   },
   "outputs": [],
   "source": [
    "model.compile(optimizer='adam', loss = 'categorical_crossentropy', metrics = ['accuracy'])"
   ]
  },
  {
   "cell_type": "code",
   "execution_count": null,
   "metadata": {},
   "outputs": [],
   "source": [
    "X_train_orig, Y_train_orig, X_test_orig, Y_test_orig = load_dataset()\n",
    "#Normalise Image vectors\n",
    "X_train = X_train_orig/255.\n",
    "X_test  =X_test_orig/255.\n",
    "\n",
    "#Convert Training and test labels to one hot vectors\n",
    "Y_train = convert_to_one_hot(Y_train_orig,6).T\n",
    "Y_test = convert_to_one_hot(Y_test_orig, 6).T\n",
    "\n",
    "print (\"number of training examples = \" + str(X_train.shape[0]))\n",
    "print (\"number of test examples = \" + str(X_test.shape[0]))\n",
    "print (\"X_train shape: \" + str(X_train.shape))\n",
    "print (\"Y_train shape: \" + str(Y_train.shape))\n",
    "print (\"X_test shape: \" + str(X_test.shape))\n",
    "print (\"Y_test shape: \" + str(Y_test.shape))"
   ]
  },
  {
   "cell_type": "code",
   "execution_count": null,
   "metadata": {},
   "outputs": [],
   "source": [
    "history = model.fit(X_train, Y_train, epochs = 50, batch_size = 32)"
   ]
  },
  {
   "cell_type": "code",
   "execution_count": null,
   "metadata": {
    "collapsed": true
   },
   "outputs": [],
   "source": [
    "preds = model.evaluate(X_test, Y_test)\n",
    "print (\"Loss = \" + str(preds[0]))\n",
    "print (\"Test Accuracy = \" + str(preds[1]))"
   ]
  },
  {
   "cell_type": "code",
   "execution_count": null,
   "metadata": {
    "collapsed": true
   },
   "outputs": [],
   "source": [
    "print(history.history.keys())\n",
    "# summarize history for accuracy\n",
    "plt.plot(history.history['acc'])\n",
    "plt.plot(history.history['val_acc'])\n",
    "plt.title('Model accuracy')\n",
    "plt.ylabel('accuracy')\n",
    "plt.xlabel('epoch')\n",
    "plt.legend(['train', 'test'], loc='upper left')\n",
    "plt.show()\n",
    "# summarize history for loss\n",
    "plt.plot(history.history['loss'])\n",
    "plt.plot(history.history['val_loss'])\n",
    "plt.title('model loss')\n",
    "plt.ylabel('loss')\n",
    "plt.xlabel('epoch')\n",
    "plt.legend(['train', 'test'], loc='upper left')\n",
    "plt.show()"
   ]
  },
  {
   "cell_type": "code",
   "execution_count": null,
   "metadata": {
    "collapsed": true
   },
   "outputs": [],
   "source": []
  },
  {
   "cell_type": "code",
   "execution_count": null,
   "metadata": {
    "collapsed": true
   },
   "outputs": [],
   "source": []
  }
 ],
 "metadata": {
  "kernelspec": {
   "display_name": "Python 3",
   "language": "python",
   "name": "python3"
  },
  "language_info": {
   "codemirror_mode": {
    "name": "ipython",
    "version": 3
   },
   "file_extension": ".py",
   "mimetype": "text/x-python",
   "name": "python",
   "nbconvert_exporter": "python",
   "pygments_lexer": "ipython3",
   "version": "3.6.3"
  }
 },
 "nbformat": 4,
 "nbformat_minor": 2
}
