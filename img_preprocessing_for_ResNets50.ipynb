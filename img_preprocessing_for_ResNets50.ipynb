{
 "cells": [
  {
   "cell_type": "code",
   "execution_count": 1,
   "metadata": {
    "collapsed": true
   },
   "outputs": [],
   "source": [
    "import numpy as np\n",
    "import glob\n",
    "import h5py\n",
    "from random import shuffle\n",
    "import cv2"
   ]
  },
  {
   "cell_type": "code",
   "execution_count": null,
   "metadata": {
    "collapsed": true
   },
   "outputs": [],
   "source": [
    "hdf5_train_path = 'dataset/hdf5_train_dataset.hdf5'\n",
    "data_path = 'dataset/TrainMix/*.jpg'"
   ]
  },
  {
   "cell_type": "code",
   "execution_count": null,
   "metadata": {
    "collapsed": true
   },
   "outputs": [],
   "source": [
    "shuffle_data = True\n",
    "#Read addresses and labels from the folder\n",
    "addrs = glob.glob(data_path)\n",
    "labels = [0 if 'cat' in addr else 1 for addr in addrs]\n",
    "#Shuffle Data\n",
    "if shuffle_data:\n",
    "    c = list(zip(addrs, labels))\n",
    "    shuffle(c)\n",
    "    addrs, labels = zip(*c)\n",
    "    "
   ]
  },
  {
   "cell_type": "code",
   "execution_count": null,
   "metadata": {},
   "outputs": [],
   "source": [
    "train_addrs_X = addrs[0:int(len(addrs))]\n",
    "train_labels = labels[0: int(len(labels))]"
   ]
  },
  {
   "cell_type": "code",
   "execution_count": null,
   "metadata": {
    "collapsed": true
   },
   "outputs": [],
   "source": [
    "data_order = 'tf'\n",
    "#Check the order of the data and choose the proper data shape to save the images\n",
    "if data_order == 'th':\n",
    "    train_shape = (len(train_addrs_X), 3, 64, 64)\n",
    "elif data_order == 'tf':\n",
    "    train_shape = (len(train_addrs_X), 64,64,3)"
   ]
  },
  {
   "cell_type": "code",
   "execution_count": null,
   "metadata": {},
   "outputs": [],
   "source": [
    "#Open the hdf5 file and create arrays\n",
    "hdf5_file = h5py.File(hdf5_train_path, mode = 'w')\n",
    "hdf5_file.create_dataset(\"train_set_X\", train_shape, np.int8)\n",
    "hdf5_file.create_dataset(\"train_mean\", train_shape[1:], np.float32)\n",
    "hdf5_file.create_dataset(\"train_set_Y\", (len(train_addrs_X),), np.int8)\n",
    "hdf5_file[\"train_set_Y\"][...] = train_labels"
   ]
  },
  {
   "cell_type": "code",
   "execution_count": null,
   "metadata": {},
   "outputs": [],
   "source": [
    "mean = np.zeros(train_shape[1:], np.float32)\n",
    "\n",
    "#loop over the train_addresses\n",
    "for i in range(len(train_addrs_X)):\n",
    "    #Print how many images are saved every 1000 images\n",
    "    if i % 1000 == 0 and i>1:\n",
    "        print('Train_data: {}/{}'.format(i, len(train_addrs_X)))\n",
    "    #Read an image and resize to (64,64)\n",
    "    #cv2 load images as BGR and convert it to RGB\n",
    "    addr = train_addrs_X[i]\n",
    "    img = cv2.imread(addr)\n",
    "    img = cv2.resize(img, (64,64), interpolation = cv2.INTER_CUBIC)\n",
    "    img = cv2.cvtColor(img, cv2.COLOR_BGR2RGB)\n",
    "    #Save the image and calculate the mean\n",
    "    hdf5_file[\"train_set_X\"][i, ...] = img[None]\n",
    "    mean += img / float(len(train_labels))\n",
    "\n",
    "\n",
    "# save the mean and close the hdf5 file\n",
    "hdf5_file[\"train_mean\"][...] = mean\n",
    "hdf5_file.close()"
   ]
  },
  {
   "cell_type": "markdown",
   "metadata": {},
   "source": [
    "# Do the same for Test Set "
   ]
  },
  {
   "cell_type": "code",
   "execution_count": 2,
   "metadata": {
    "collapsed": true
   },
   "outputs": [],
   "source": [
    "hdf5_test_path = 'dataset/hdf5_test_dataset.hdf5'\n",
    "data_path = 'dataset/TestMix/*.jpg'"
   ]
  },
  {
   "cell_type": "code",
   "execution_count": 3,
   "metadata": {
    "collapsed": true
   },
   "outputs": [],
   "source": [
    "shuffle_data = True\n",
    "#Read addresses and labels from the folder\n",
    "addrs = glob.glob(data_path)\n",
    "labels = [0 if 'cat' in addr else 1 for addr in addrs]\n",
    "#Shuffle Data\n",
    "if shuffle_data:\n",
    "    c = list(zip(addrs, labels))\n",
    "    shuffle(c)\n",
    "    addrs, labels = zip(*c)\n",
    "    "
   ]
  },
  {
   "cell_type": "code",
   "execution_count": 4,
   "metadata": {
    "collapsed": true
   },
   "outputs": [],
   "source": [
    "test_addrs_X = addrs[0:int(len(addrs))]\n",
    "test_labels = labels[0: int(len(labels))]"
   ]
  },
  {
   "cell_type": "code",
   "execution_count": 5,
   "metadata": {
    "collapsed": true
   },
   "outputs": [],
   "source": [
    "data_order = 'tf'\n",
    "#Check the order of the data and choose the proper data shape to save the images\n",
    "if data_order == 'th':\n",
    "    test_shape = (len(test_addrs_X), 3, 64, 64)\n",
    "elif data_order == 'tf':\n",
    "    test_shape = (len(test_addrs_X), 64,64,3)"
   ]
  },
  {
   "cell_type": "code",
   "execution_count": 6,
   "metadata": {},
   "outputs": [],
   "source": [
    "#Open the hdf5 file and create arrays\n",
    "hdf5_file = h5py.File(hdf5_test_path, mode = 'w')\n",
    "hdf5_file.create_dataset(\"test_set_X\", test_shape, np.int8)\n",
    "hdf5_file.create_dataset(\"test_mean\", test_shape[1:], np.float32)\n",
    "hdf5_file.create_dataset(\"test_set_Y\", (len(test_addrs_X),), np.int8)\n",
    "hdf5_file[\"test_set_Y\"][...] = test_labels"
   ]
  },
  {
   "cell_type": "code",
   "execution_count": 7,
   "metadata": {},
   "outputs": [
    {
     "name": "stdout",
     "output_type": "stream",
     "text": [
      "Train_data: 1000/2000\n"
     ]
    }
   ],
   "source": [
    "mean = np.zeros(test_shape[1:], np.float32)\n",
    "\n",
    "#loop over the train_addresses\n",
    "for i in range(len(test_addrs_X)):\n",
    "    #Print how many images are saved every 1000 images\n",
    "    if i % 1000 == 0 and i>1:\n",
    "        print('Train_data: {}/{}'.format(i, len(test_addrs_X)))\n",
    "    #Read an image and resize to (64,64)\n",
    "    #cv2 load images as BGR and convert it to RGB\n",
    "    addr = test_addrs_X[i]\n",
    "    img = cv2.imread(addr)\n",
    "    img = cv2.resize(img, (64,64), interpolation = cv2.INTER_CUBIC)\n",
    "    img = cv2.cvtColor(img, cv2.COLOR_BGR2RGB)\n",
    "    #Save the image and calculate the mean\n",
    "    hdf5_file[\"test_set_X\"][i, ...] = img[None]\n",
    "    mean += img / float(len(test_labels))\n",
    "\n",
    "\n",
    "# save the mean and close the hdf5 file\n",
    "hdf5_file[\"test_mean\"][...] = mean\n",
    "hdf5_file.close()"
   ]
  },
  {
   "cell_type": "code",
   "execution_count": null,
   "metadata": {
    "collapsed": true
   },
   "outputs": [],
   "source": []
  }
 ],
 "metadata": {
  "kernelspec": {
   "display_name": "Python 3",
   "language": "python",
   "name": "python3"
  },
  "language_info": {
   "codemirror_mode": {
    "name": "ipython",
    "version": 3
   },
   "file_extension": ".py",
   "mimetype": "text/x-python",
   "name": "python",
   "nbconvert_exporter": "python",
   "pygments_lexer": "ipython3",
   "version": "3.6.3"
  }
 },
 "nbformat": 4,
 "nbformat_minor": 2
}
