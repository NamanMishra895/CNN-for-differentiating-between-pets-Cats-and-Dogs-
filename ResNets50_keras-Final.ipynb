{
 "cells": [
  {
   "cell_type": "code",
   "execution_count": 1,
   "metadata": {
    "collapsed": true
   },
   "outputs": [],
   "source": [
    "import os\n",
    "import numpy as np\n",
    "import tensorflow as tf\n",
    "import h5py\n",
    "import math"
   ]
  },
  {
   "cell_type": "code",
   "execution_count": 2,
   "metadata": {
    "collapsed": true
   },
   "outputs": [],
   "source": [
    "def load_dataset():\n",
    "    train_dataset = h5py.File('dataset/hdf5_train_dataset.hdf5', 'r')\n",
    "    train_set_x_orig = np.array(train_dataset['train_set_X'][:])\n",
    "    train_set_y_orig = np.array(train_dataset['train_set_Y'][:])\n",
    "    \n",
    "    test_dataset = h5py.File('dataset/hdf5_test_dataset.hdf5', 'r')\n",
    "    test_set_x_orig = np.array(test_dataset['test_set_X'][:])\n",
    "    test_set_y_orig = np.array(test_dataset['test_set_Y'][:])\n",
    "    \n",
    "    train_set_y_orig = train_set_y_orig.reshape((1, train_set_y_orig.shape[0]))\n",
    "    test_set_y_orig = test_set_y_orig.reshape((1, test_set_y_orig.shape[0]))\n",
    "    return train_set_x_orig, train_set_y_orig, test_set_x_orig, test_set_y_orig"
   ]
  },
  {
   "cell_type": "code",
   "execution_count": 3,
   "metadata": {
    "collapsed": true
   },
   "outputs": [],
   "source": [
    "def random_mini_batches(X, Y, mini_batch_size = 64, seed = 0):\n",
    "    \"\"\"\n",
    "    X -- input data, of shape (input size, number of examples)(m, n_H, n_W, n_C)\n",
    "    Y -- true 'label' vector (containing 0 if cat, 1 if non-cat) of shape (1, number of examples)(m,n_y)\n",
    "    mini_batch_size -- size of minibatches, integer\n",
    "    \"\"\"\n",
    "    m = X.shape()   #number of examples\n",
    "    mini_batches = []\n",
    "    \n",
    "    #Step 1 -- Shuffle X and Y\n",
    "    permutation = list(np.random.permutation(m))\n",
    "    shuffled_X = X[permutation,:,:,:]\n",
    "    shuffled_Y = Y[permutation,:]\n",
    "    \n",
    "    #Step 2 -- partition of X and Y minus the end case\n",
    "    num_complete_minibatches = math.floor(m/mini_batch_size)\n",
    "    for i in range(0, num_complete_minibatches):\n",
    "        mini_batch_X = shuffled_X[i*mini_batch_size: i* mini_batch_size + mini_batch_size,:,:,:]\n",
    "        mini_batch_Y = shuffled_Y[i*mini_batch_size: i*mini_batch_size + mini_batch_size,:]\n",
    "        mini_batch = (mini_batch_X, mini_batch_Y)\n",
    "        mini_batches.append(mini_batch)\n",
    "        \n",
    "    #handling the end case (last_mini_batch < mini_batch_size)\n",
    "    if m%mini_batch_size != 0:\n",
    "        mini_batch_X = shuffled_X[num_complete_minibatches * mini_batch_size:m,:,:,:]\n",
    "        mini_batch_Y = shuffled_Y[num_complete_minibatches*mini_batch_size:m,:]\n",
    "        mini_batch = (mini_batch_X, mini_batch_Y)\n",
    "        mini_batches.append(mini_batch)\n",
    "        \n",
    "    return mini_batches\n",
    "    "
   ]
  },
  {
   "cell_type": "code",
   "execution_count": 4,
   "metadata": {
    "collapsed": true
   },
   "outputs": [],
   "source": [
    "def convert_to_one_hot(Y,C):\n",
    "    Y = np.eye(C)[Y.reshape(-1)].T\n",
    "    return Y"
   ]
  },
  {
   "cell_type": "code",
   "execution_count": 5,
   "metadata": {
    "collapsed": true
   },
   "outputs": [],
   "source": [
    "def forward_propagation_for_predict(X, parameters):\n",
    "    \n",
    "    \"\"\"Implement Linear -> Relu -> Linear -> ReLu -> Softmax\n",
    "    Arguments:\n",
    "    X -- input dataset placeholder, of shape (input size, number of examples)\n",
    "    Arguments:\n",
    "    X -- input dataset placeholder, of shape (input size, number of examples)\n",
    "    parameters -- python dictionary containing your parameters \"W1\", \"b1\", \"W2\", \"b2\", \"W3\", \"b3\"\n",
    "                  the shapes are given in initialize_parameters\n",
    "\n",
    "    Returns:\n",
    "    Z3 -- the output of the last LINEAR unit \n",
    "    \n",
    "    \"\"\"\n",
    "    #Retrieve the parameters from the dictionary 'parameters'\n",
    "    W1 = parameters['W1']\n",
    "    b1 = parameters['b1']\n",
    "    W2 = parameters['W2']\n",
    "    b2 = parameters['b2']\n",
    "    W3 = parameters['W3']\n",
    "    b3 = parameters['b3']\n",
    "    \n",
    "    Z1 = tf.add(tf.matmul(W1,X), b1)\n",
    "    A1 = tf.nn.relu(Z1)\n",
    "    Z2 = tf.add(tf.matmul(W2,A1), b2)\n",
    "    A2 = tf.nn.relu(Z2)\n",
    "    Z3 = tf.add(tf.matmul(W3,A2), b3)\n",
    "    \n",
    "    return Z3"
   ]
  },
  {
   "cell_type": "code",
   "execution_count": 6,
   "metadata": {
    "collapsed": true
   },
   "outputs": [],
   "source": [
    "def predict(X, parameters):\n",
    "    \n",
    "    W1 = tf.convert_to_tensor(parameters[\"W1\"])\n",
    "    b1 = tf.convert_to_tensor(parameters[\"b1\"])\n",
    "    W2 = tf.convert_to_tensor(parameters[\"W2\"])\n",
    "    b2 = tf.convert_to_tensor(parameters[\"b2\"])\n",
    "    W3 = tf.convert_to_tensor(parameters[\"W3\"])\n",
    "    b3 = tf.convert_to_tensor(parameters[\"b3\"])\n",
    " \n",
    "    params = {\"W1\" : W1,\n",
    "             \"b1\" : b1,\n",
    "             \"W2\" : W2,\n",
    "             \"b2\" : b2, \n",
    "             \"W3\" : W3,\n",
    "              \"b3\" : b3\n",
    "             }\n",
    "    x = tf.placeholder(\"float\", [12288,1])\n",
    "    \n",
    "    z3 = forward_propagation_for_predict(x, params)\n",
    "    p = tf.argmax(z3)\n",
    "    sess = tf.Session()\n",
    "    prediction = sess.run(p, feed_dict = {x:X})\n",
    "    \n",
    "    return prediction"
   ]
  },
  {
   "cell_type": "markdown",
   "metadata": {},
   "source": [
    "# Residual network"
   ]
  },
  {
   "cell_type": "code",
   "execution_count": 7,
   "metadata": {},
   "outputs": [
    {
     "name": "stderr",
     "output_type": "stream",
     "text": [
      "Using TensorFlow backend.\n"
     ]
    }
   ],
   "source": [
    "import numpy as np\n",
    "from keras import layers\n",
    "from keras.layers import Input, Add, Dense, Activation, ZeroPadding2D, BatchNormalization, Flatten, Conv2D, AveragePooling2D, MaxPooling2D, GlobalMaxPooling2D\n",
    "from keras.models import Model, load_model\n",
    "from keras.preprocessing import image\n",
    "from keras.utils import layer_utils\n",
    "from keras.utils.data_utils import get_file\n",
    "from keras.applications.imagenet_utils import preprocess_input\n",
    "import pydot\n",
    "from IPython.display import SVG\n",
    "from keras.utils.vis_utils import model_to_dot\n",
    "from keras.utils import plot_model\n",
    "from keras.initializers import glorot_uniform\n",
    "import scipy.misc\n",
    "import matplotlib.pyplot as plt\n",
    "from matplotlib.pyplot import imshow\n",
    "%matplotlib inline\n",
    "\n",
    "import keras.backend as K\n",
    "K.set_image_data_format('channels_last')\n",
    "K.set_learning_phase(1)"
   ]
  },
  {
   "cell_type": "markdown",
   "metadata": {},
   "source": [
    "## Identity Block"
   ]
  },
  {
   "cell_type": "code",
   "execution_count": 8,
   "metadata": {
    "collapsed": true
   },
   "outputs": [],
   "source": [
    "def identity_block(X, f, filters, stage, block):\n",
    "    \"\"\"\n",
    "    Implementation of the identity block.\n",
    "    \n",
    "    Arguments:\n",
    "    X -- input tensor of shape (m, n_H_prev, n_W_prev, n_C_prev)\n",
    "    f -- integer, specifying the shape of the middle CONV's window for the main path\n",
    "    filters -- python list of integers, defining the number of filters in the CONV layers of the main path\n",
    "    stage -- integer, used to name the layers, depending on their position in the network\n",
    "    block -- string/character, used to name the layers, depending on their position in the network\n",
    "    \n",
    "    Returns:\n",
    "    X -- output of the identity block, tensor of shape (n_H, n_W, n_C)\n",
    "    \"\"\"\n",
    "    #Defining name basis\n",
    "    conv_name_base = 'res' + str(stage) + block + '_branch'\n",
    "    bn_name_base = 'bn' + str(stage) + block + '_branch'\n",
    "    \n",
    "    #Retrieve filters\n",
    "    F1, F2, F3 = filters\n",
    "    \n",
    "    #Save the i/p value \n",
    "    X_shortcut = X\n",
    "    \n",
    "    #First Component of the main path\n",
    "    X = Conv2D(filters = F1, kernel_size = (1,1), strides = (1,1), padding = 'valid', \n",
    "               name = conv_name_base + '2a', kernel_initializer = glorot_uniform())(X)\n",
    "    X = BatchNormalization(axis = 3, name = bn_name_base + '2a')(X)\n",
    "    X = Activation('relu')(X)\n",
    "    \n",
    "    #Second Component of the main path\n",
    "    X = Conv2D(filters = F2, kernel_size = (f,f), strides = (1,1), padding = 'same', \n",
    "               name = conv_name_base + '2b', kernel_initializer = glorot_uniform())(X)\n",
    "    X = BatchNormalization(axis = 3, name = bn_name_base + '2b')(X)\n",
    "    X = Activation('relu')(X)\n",
    "    \n",
    "    #Third Component\n",
    "    X = Conv2D(filters = F3, kernel_size = (1,1), strides = (1,1), padding = 'valid', \n",
    "               name = conv_name_base + '2c', kernel_initializer = glorot_uniform())(X)\n",
    "    X = BatchNormalization(axis = 3, name = bn_name_base + '2c')(X)\n",
    "    \n",
    "    #Add shortcut to the main path\n",
    "    X = Add()([X, X_shortcut])\n",
    "    X = Activation('relu')(X)\n",
    "    \n",
    "    return X\n",
    "    \n"
   ]
  },
  {
   "cell_type": "markdown",
   "metadata": {},
   "source": [
    "## Convolution Block"
   ]
  },
  {
   "cell_type": "code",
   "execution_count": 9,
   "metadata": {
    "collapsed": true
   },
   "outputs": [],
   "source": [
    "def convolutional_block(X, f, filters, stage, block, s = 2):\n",
    "    \"\"\"\n",
    "    Implementation of the convolutional block as defined in Figure 4\n",
    "    \n",
    "    Arguments:\n",
    "    X -- input tensor of shape (m, n_H_prev, n_W_prev, n_C_prev)\n",
    "    f -- integer, specifying the shape of the middle CONV's window for the main path\n",
    "    filters -- python list of integers, defining the number of filters in the CONV layers of the main path\n",
    "    stage -- integer, used to name the layers, depending on their position in the network\n",
    "    block -- string/character, used to name the layers, depending on their position in the network\n",
    "    s -- Integer, specifying the stride to be used\n",
    "    \n",
    "    Returns:\n",
    "    X -- output of the convolutional block, tensor of shape (n_H, n_W, n_C)\n",
    "    \"\"\"\n",
    "    conv_name_base = 'res' + str(stage) + block + '_branch'\n",
    "    bn_name_base = 'bn' + str(stage) + block + '_branch'\n",
    "    \n",
    "    #retrieve filters\n",
    "    F1,F2,F3 = filters\n",
    "    \n",
    "    #Save the input value\n",
    "    X_shortcut = X\n",
    "    \n",
    "    #Main Path\n",
    "    #First component of the main path\n",
    "    X = Conv2D(F1, (1,1), strides = (s,s), name = conv_name_base + '2a', kernel_initializer=glorot_uniform())(X)\n",
    "    X = BatchNormalization(axis = 3, name = bn_name_base + '2a')(X)\n",
    "    X = Activation('relu')(X)\n",
    "    \n",
    "    #Second component of the main path\n",
    "    X = Conv2D(F2, (f,f), strides = (1,1), name = conv_name_base + '2b', \n",
    "                   padding  = 'same', kernel_initializer=glorot_uniform())(X)\n",
    "    X = BatchNormalization(axis = 3, name = bn_name_base + '2b')(X)\n",
    "    X = Activation('relu')(X)\n",
    "\n",
    "    #Third component \n",
    "    X = Conv2D(F3, (1,1), strides = (1,1), name = conv_name_base + '2c', kernel_initializer=glorot_uniform())(X)\n",
    "    X = BatchNormalization(axis = 3, name = bn_name_base + '2c')(X)\n",
    "    \n",
    "    #Shortcut Path\n",
    "    X_shortcut = Conv2D(F3, (1, 1), strides = (s,s), name = conv_name_base + '1', kernel_initializer = glorot_uniform(seed=0))(X_shortcut)\n",
    "    X_shortcut = BatchNormalization(axis = 3, name = bn_name_base + '1')(X_shortcut)\n",
    "    \n",
    "    #Final Step\n",
    "    X = Add()([X,X_shortcut])\n",
    "    X = Activation('relu')(X)\n",
    "    \n",
    "    return X"
   ]
  },
  {
   "cell_type": "markdown",
   "metadata": {},
   "source": [
    "## Building ResNet50"
   ]
  },
  {
   "cell_type": "code",
   "execution_count": 10,
   "metadata": {
    "collapsed": true
   },
   "outputs": [],
   "source": [
    "# GRADED FUNCTION: ResNet50\n",
    "\n",
    "def ResNet50(input_shape = (64, 64, 3), classes = 6):\n",
    "    \"\"\"\n",
    "    Implementation of the popular ResNet50 the following architecture:\n",
    "    CONV2D -> BATCHNORM -> RELU -> MAXPOOL -> CONVBLOCK -> IDBLOCK*2 -> CONVBLOCK -> IDBLOCK*3\n",
    "    -> CONVBLOCK -> IDBLOCK*5 -> CONVBLOCK -> IDBLOCK*2 -> AVGPOOL -> TOPLAYER\n",
    "\n",
    "    Arguments:\n",
    "    input_shape -- shape of the images of the dataset\n",
    "    classes -- integer, number of classes\n",
    "\n",
    "    Returns:\n",
    "    model -- a Model() instance in Keras\n",
    "    \"\"\"\n",
    "    \n",
    "    # Define the input as a tensor with shape input_shape\n",
    "    X_input = Input(input_shape)\n",
    "\n",
    "    \n",
    "    # Zero-Padding\n",
    "    X = ZeroPadding2D((3, 3))(X_input)\n",
    "    \n",
    "    # Stage 1\n",
    "    X = Conv2D(64, (7, 7), strides = (2, 2), name = 'conv1', kernel_initializer = glorot_uniform(seed=0))(X)\n",
    "    X = BatchNormalization(axis = 3, name = 'bn_conv1')(X)\n",
    "    X = Activation('relu')(X)\n",
    "    X = MaxPooling2D((3, 3), strides=(2, 2))(X)\n",
    "\n",
    "    # Stage 2\n",
    "    X = convolutional_block(X, f = 3, filters = [64, 64, 256], stage = 2, block='a', s = 1)\n",
    "    X = identity_block(X, 3, [64, 64, 256], stage=2, block='b')\n",
    "    X = identity_block(X, 3, [64, 64, 256], stage=2, block='c')\n",
    "\n",
    "    ### START CODE HERE ###\n",
    "\n",
    "    # Stage 3 (≈4 lines)\n",
    "    X = convolutional_block(X, f = 3, filters = [128, 128, 512], stage = 3, block='a', s = 2)\n",
    "    X = identity_block(X, 3, [128, 128, 512], stage=3, block='b')\n",
    "    X = identity_block(X, 3, [128, 128, 512], stage=3, block='c')\n",
    "    X = identity_block(X, 3, [128, 128, 512], stage=3, block='d')\n",
    "\n",
    "    # Stage 4 (≈6 lines)\n",
    "    X = convolutional_block(X, f = 3, filters = [256, 256, 1024], stage = 4, block='a', s = 2)\n",
    "    X = identity_block(X, 3, [256, 256, 1024], stage=4, block='b')\n",
    "    X = identity_block(X, 3, [256, 256, 1024], stage=4, block='c')\n",
    "    X = identity_block(X, 3, [256, 256, 1024], stage=4, block='d')\n",
    "    X = identity_block(X, 3, [256, 256, 1024], stage=4, block='e')\n",
    "    X = identity_block(X, 3, [256, 256, 1024], stage=4, block='f')\n",
    "\n",
    "    # Stage 5 (≈3 lines)\n",
    "    X = convolutional_block(X, f = 3, filters = [512, 512, 2048], stage = 5, block='a', s = 2)\n",
    "    X = identity_block(X, 3, [512, 512, 2048], stage=5, block='b')\n",
    "    X = identity_block(X, 3, [512, 512, 2048], stage=5, block='c')\n",
    "\n",
    "    # AVGPOOL (≈1 line). Use \"X = AveragePooling2D(...)(X)\"\n",
    "    X = AveragePooling2D((2,2), name=\"avg_pool\")(X)\n",
    "    \n",
    "    ### END CODE HERE ###\n",
    "\n",
    "    # output layer\n",
    "    X = Flatten()(X)\n",
    "    X = Dense(classes, activation='softmax', name='fc' + str(classes), kernel_initializer = glorot_uniform(seed=0))(X)\n",
    "    \n",
    "    \n",
    "    # Create model\n",
    "    model = Model(inputs = X_input, outputs = X, name='ResNet50')\n",
    "\n",
    "    return model"
   ]
  },
  {
   "cell_type": "code",
   "execution_count": 11,
   "metadata": {
    "collapsed": true
   },
   "outputs": [],
   "source": [
    "model = ResNet50(input_shape=(64,64,3), classes = 6)"
   ]
  },
  {
   "cell_type": "code",
   "execution_count": 12,
   "metadata": {
    "collapsed": true
   },
   "outputs": [],
   "source": [
    "model.compile(optimizer='adam', loss = 'categorical_crossentropy', metrics = ['accuracy'])"
   ]
  },
  {
   "cell_type": "code",
   "execution_count": 13,
   "metadata": {},
   "outputs": [
    {
     "name": "stdout",
     "output_type": "stream",
     "text": [
      "number of training examples = 8000\n",
      "number of test examples = 2000\n",
      "X_train shape: (8000, 64, 64, 3)\n",
      "Y_train shape: (8000, 6)\n",
      "X_test shape: (2000, 64, 64, 3)\n",
      "Y_test shape: (2000, 6)\n"
     ]
    }
   ],
   "source": [
    "X_train_orig, Y_train_orig, X_test_orig, Y_test_orig = load_dataset()\n",
    "#Normalise Image vectors\n",
    "X_train = X_train_orig/255.\n",
    "X_test  =X_test_orig/255.\n",
    "\n",
    "#Convert Training and test labels to one hot vectors\n",
    "Y_train = convert_to_one_hot(Y_train_orig,6).T\n",
    "Y_test = convert_to_one_hot(Y_test_orig, 6).T\n",
    "\n",
    "print (\"number of training examples = \" + str(X_train.shape[0]))\n",
    "print (\"number of test examples = \" + str(X_test.shape[0]))\n",
    "print (\"X_train shape: \" + str(X_train.shape))\n",
    "print (\"Y_train shape: \" + str(Y_train.shape))\n",
    "print (\"X_test shape: \" + str(X_test.shape))\n",
    "print (\"Y_test shape: \" + str(Y_test.shape))"
   ]
  },
  {
   "cell_type": "code",
   "execution_count": 14,
   "metadata": {},
   "outputs": [
    {
     "data": {
      "text/plain": [
       "(8000, 64, 64, 3)"
      ]
     },
     "execution_count": 14,
     "metadata": {},
     "output_type": "execute_result"
    }
   ],
   "source": [
    "X_train_orig.shape"
   ]
  },
  {
   "cell_type": "code",
   "execution_count": 15,
   "metadata": {},
   "outputs": [
    {
     "name": "stdout",
     "output_type": "stream",
     "text": [
      "Epoch 1/70\n",
      "8000/8000 [==============================] - 666s 83ms/step - loss: 1.1821 - acc: 0.5135\n",
      "Epoch 2/70\n",
      "8000/8000 [==============================] - 655s 82ms/step - loss: 0.9565 - acc: 0.5346\n",
      "Epoch 3/70\n",
      "8000/8000 [==============================] - 671s 84ms/step - loss: 0.8476 - acc: 0.5734\n",
      "Epoch 4/70\n",
      "8000/8000 [==============================] - 671s 84ms/step - loss: 0.8864 - acc: 0.5926\n",
      "Epoch 5/70\n",
      "8000/8000 [==============================] - 678s 85ms/step - loss: 0.9197 - acc: 0.6111\n",
      "Epoch 6/70\n",
      "8000/8000 [==============================] - 680s 85ms/step - loss: 0.8834 - acc: 0.6125\n",
      "Epoch 7/70\n",
      "8000/8000 [==============================] - 656s 82ms/step - loss: 0.7760 - acc: 0.6461\n",
      "Epoch 8/70\n",
      "8000/8000 [==============================] - 666s 83ms/step - loss: 0.8495 - acc: 0.6573\n",
      "Epoch 9/70\n",
      "8000/8000 [==============================] - 654s 82ms/step - loss: 0.8967 - acc: 0.6054\n",
      "Epoch 10/70\n",
      "8000/8000 [==============================] - 651s 81ms/step - loss: 0.8555 - acc: 0.6345\n",
      "Epoch 11/70\n",
      "8000/8000 [==============================] - 657s 82ms/step - loss: 0.7576 - acc: 0.6550\n",
      "Epoch 12/70\n",
      "8000/8000 [==============================] - 651s 81ms/step - loss: 0.7067 - acc: 0.6810\n",
      "Epoch 13/70\n",
      "8000/8000 [==============================] - 651s 81ms/step - loss: 0.7852 - acc: 0.6690\n",
      "Epoch 14/70\n",
      "8000/8000 [==============================] - 657s 82ms/step - loss: 0.7261 - acc: 0.6354\n",
      "Epoch 15/70\n",
      "8000/8000 [==============================] - 650s 81ms/step - loss: 0.6815 - acc: 0.6440\n",
      "Epoch 16/70\n",
      "8000/8000 [==============================] - 651s 81ms/step - loss: 0.6210 - acc: 0.6749\n",
      "Epoch 17/70\n",
      "8000/8000 [==============================] - 667s 83ms/step - loss: 0.5833 - acc: 0.7044\n",
      "Epoch 18/70\n",
      "8000/8000 [==============================] - 669s 84ms/step - loss: 0.5423 - acc: 0.7252\n",
      "Epoch 19/70\n",
      "8000/8000 [==============================] - 682s 85ms/step - loss: 0.5209 - acc: 0.7449\n",
      "Epoch 20/70\n",
      "8000/8000 [==============================] - 660s 82ms/step - loss: 0.4828 - acc: 0.7674\n",
      "Epoch 21/70\n",
      "8000/8000 [==============================] - 652s 81ms/step - loss: 0.4489 - acc: 0.7895\n",
      "Epoch 22/70\n",
      "8000/8000 [==============================] - 661s 83ms/step - loss: 0.4037 - acc: 0.8175\n",
      "Epoch 23/70\n",
      "8000/8000 [==============================] - 666s 83ms/step - loss: 0.3826 - acc: 0.8286\n",
      "Epoch 24/70\n",
      "8000/8000 [==============================] - 659s 82ms/step - loss: 0.3496 - acc: 0.8480\n",
      "Epoch 25/70\n",
      "8000/8000 [==============================] - 664s 83ms/step - loss: 0.3197 - acc: 0.8594\n",
      "Epoch 26/70\n",
      "8000/8000 [==============================] - 660s 83ms/step - loss: 0.2943 - acc: 0.8719\n",
      "Epoch 27/70\n",
      "8000/8000 [==============================] - 663s 83ms/step - loss: 0.2741 - acc: 0.8804\n",
      "Epoch 28/70\n",
      "8000/8000 [==============================] - 662s 83ms/step - loss: 0.2555 - acc: 0.8896\n",
      "Epoch 29/70\n",
      "8000/8000 [==============================] - 650s 81ms/step - loss: 0.2318 - acc: 0.9002\n",
      "Epoch 30/70\n",
      "8000/8000 [==============================] - 658s 82ms/step - loss: 0.2369 - acc: 0.9005\n",
      "Epoch 31/70\n",
      "8000/8000 [==============================] - 666s 83ms/step - loss: 0.2001 - acc: 0.9165\n",
      "Epoch 32/70\n",
      "8000/8000 [==============================] - 668s 83ms/step - loss: 0.1981 - acc: 0.9183\n",
      "Epoch 33/70\n",
      "8000/8000 [==============================] - 674s 84ms/step - loss: 0.2006 - acc: 0.9168\n",
      "Epoch 34/70\n",
      "8000/8000 [==============================] - 660s 82ms/step - loss: 0.1709 - acc: 0.9298\n",
      "Epoch 35/70\n",
      "8000/8000 [==============================] - 663s 83ms/step - loss: 0.1637 - acc: 0.9350\n",
      "Epoch 36/70\n",
      "8000/8000 [==============================] - 671s 84ms/step - loss: 0.1471 - acc: 0.9431\n",
      "Epoch 37/70\n",
      "8000/8000 [==============================] - 671s 84ms/step - loss: 0.1632 - acc: 0.9341\n",
      "Epoch 38/70\n",
      "8000/8000 [==============================] - 673s 84ms/step - loss: 0.1440 - acc: 0.9425\n",
      "Epoch 39/70\n",
      "8000/8000 [==============================] - 649s 81ms/step - loss: 0.1308 - acc: 0.9485\n",
      "Epoch 40/70\n",
      "8000/8000 [==============================] - 648s 81ms/step - loss: 0.1534 - acc: 0.9395\n",
      "Epoch 41/70\n",
      "8000/8000 [==============================] - 661s 83ms/step - loss: 0.1144 - acc: 0.9550\n",
      "Epoch 42/70\n",
      "8000/8000 [==============================] - 665s 83ms/step - loss: 0.1022 - acc: 0.9617\n",
      "Epoch 43/70\n",
      "8000/8000 [==============================] - 668s 83ms/step - loss: 0.1008 - acc: 0.9623\n",
      "Epoch 44/70\n",
      "8000/8000 [==============================] - 674s 84ms/step - loss: 0.1030 - acc: 0.9610\n",
      "Epoch 45/70\n",
      "8000/8000 [==============================] - 673s 84ms/step - loss: 0.1067 - acc: 0.9600\n",
      "Epoch 46/70\n",
      "8000/8000 [==============================] - 672s 84ms/step - loss: 0.0703 - acc: 0.9733\n",
      "Epoch 47/70\n",
      "8000/8000 [==============================] - 681s 85ms/step - loss: 0.1029 - acc: 0.9627\n",
      "Epoch 48/70\n",
      "8000/8000 [==============================] - 671s 84ms/step - loss: 0.0879 - acc: 0.9665\n",
      "Epoch 49/70\n",
      "8000/8000 [==============================] - 666s 83ms/step - loss: 0.0605 - acc: 0.9785\n",
      "Epoch 50/70\n",
      "8000/8000 [==============================] - 657s 82ms/step - loss: 0.0707 - acc: 0.9738\n",
      "Epoch 51/70\n",
      "8000/8000 [==============================] - 661s 83ms/step - loss: 0.0751 - acc: 0.9719\n",
      "Epoch 52/70\n",
      "8000/8000 [==============================] - 668s 83ms/step - loss: 0.0572 - acc: 0.9796\n",
      "Epoch 53/70\n",
      "8000/8000 [==============================] - 656s 82ms/step - loss: 0.0666 - acc: 0.9769\n",
      "Epoch 54/70\n",
      "8000/8000 [==============================] - 653s 82ms/step - loss: 0.0580 - acc: 0.9783\n",
      "Epoch 55/70\n",
      "8000/8000 [==============================] - 657s 82ms/step - loss: 0.0512 - acc: 0.9819\n",
      "Epoch 56/70\n",
      "8000/8000 [==============================] - 661s 83ms/step - loss: 0.0534 - acc: 0.9820\n",
      "Epoch 57/70\n",
      "8000/8000 [==============================] - 697s 87ms/step - loss: 0.0561 - acc: 0.9798\n",
      "Epoch 58/70\n",
      "8000/8000 [==============================] - 678s 85ms/step - loss: 0.0471 - acc: 0.9828\n",
      "Epoch 59/70\n",
      "8000/8000 [==============================] - 690s 86ms/step - loss: 0.0546 - acc: 0.9799\n",
      "Epoch 60/70\n",
      "8000/8000 [==============================] - 661s 83ms/step - loss: 0.0528 - acc: 0.9819\n",
      "Epoch 61/70\n",
      "8000/8000 [==============================] - 658s 82ms/step - loss: 0.0526 - acc: 0.9815\n",
      "Epoch 62/70\n",
      "8000/8000 [==============================] - 658s 82ms/step - loss: 0.0449 - acc: 0.9836\n",
      "Epoch 63/70\n",
      "8000/8000 [==============================] - 674s 84ms/step - loss: 0.0440 - acc: 0.9844\n",
      "Epoch 64/70\n",
      "8000/8000 [==============================] - 667s 83ms/step - loss: 0.0576 - acc: 0.9796\n",
      "Epoch 65/70\n",
      "8000/8000 [==============================] - 671s 84ms/step - loss: 0.0410 - acc: 0.9866\n",
      "Epoch 66/70\n",
      "8000/8000 [==============================] - 667s 83ms/step - loss: 0.0399 - acc: 0.9853\n",
      "Epoch 67/70\n",
      "8000/8000 [==============================] - 668s 84ms/step - loss: 0.0459 - acc: 0.9831\n",
      "Epoch 68/70\n",
      "8000/8000 [==============================] - 670s 84ms/step - loss: 0.0428 - acc: 0.9853\n",
      "Epoch 69/70\n",
      "8000/8000 [==============================] - 666s 83ms/step - loss: 0.0407 - acc: 0.9860\n",
      "Epoch 70/70\n",
      "8000/8000 [==============================] - 667s 83ms/step - loss: 0.0333 - acc: 0.9882\n"
     ]
    }
   ],
   "source": [
    "history = model.fit(X_train, Y_train, epochs = 70, batch_size = 32)"
   ]
  },
  {
   "cell_type": "code",
   "execution_count": 23,
   "metadata": {},
   "outputs": [
    {
     "name": "stdout",
     "output_type": "stream",
     "text": [
      "2000/2000 [==============================] - 33s 17ms/step\n",
      "Loss = 1.59646500397\n",
      "Test Accuracy = 0.7235\n"
     ]
    }
   ],
   "source": [
    "preds = model.evaluate(X_test, Y_test)\n",
    "print (\"Loss = \" + str(preds[0]))\n",
    "print (\"Test Accuracy = \" + str(preds[1]))"
   ]
  },
  {
   "cell_type": "code",
   "execution_count": 27,
   "metadata": {},
   "outputs": [
    {
     "name": "stdout",
     "output_type": "stream",
     "text": [
      "dict_keys(['loss', 'acc'])\n"
     ]
    },
    {
     "data": {
      "image/png": "[encoded data removed]",
      "text/plain": [
       "<matplotlib.figure.Figure at 0x1e111b3d978>"
      ]
     },
     "metadata": {},
     "output_type": "display_data"
    },
    {
     "data": {
      "image/png": "[encoded data removed]",
      "text/plain": [
       "<matplotlib.figure.Figure at 0x1e111bfff60>"
      ]
     },
     "metadata": {},
     "output_type": "display_data"
    }
   ],
   "source": [
    "print(history.history.keys())\n",
    "# summarize history for accuracy\n",
    "plt.plot(history.history['acc'])\n",
    "plt.title('Model accuracy')\n",
    "plt.ylabel('accuracy')\n",
    "plt.xlabel('epoch')\n",
    "plt.legend(['train', 'test'], loc='upper left')\n",
    "plt.show()\n",
    "# summarize history for loss\n",
    "plt.plot(history.history['loss'])\n",
    "plt.title('model loss')\n",
    "plt.ylabel('loss')\n",
    "plt.xlabel('epoch')\n",
    "plt.legend(['train', 'test'], loc='upper left')\n",
    "plt.show()"
   ]
  },
  {
   "cell_type": "code",
   "execution_count": null,
   "metadata": {
    "collapsed": true
   },
   "outputs": [],
   "source": []
  }
 ],
 "metadata": {
  "kernelspec": {
   "display_name": "Python 3",
   "language": "python",
   "name": "python3"
  },
  "language_info": {
   "codemirror_mode": {
    "name": "ipython",
    "version": 3
   },
   "file_extension": ".py",
   "mimetype": "text/x-python",
   "name": "python",
   "nbconvert_exporter": "python",
   "pygments_lexer": "ipython3",
   "version": "3.6.3"
  }
 },
 "nbformat": 4,
 "nbformat_minor": 2
}
